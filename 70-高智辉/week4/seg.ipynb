{
 "cells": [
  {
   "cell_type": "code",
   "execution_count": 2,
   "id": "initial_id",
   "metadata": {
    "collapsed": true,
    "ExecuteTime": {
     "end_time": "2024-01-18T08:34:19.709805Z",
     "start_time": "2024-01-18T08:34:19.707576Z"
    }
   },
   "outputs": [
    {
     "name": "stdout",
     "output_type": "stream",
     "text": [
      "[['经常', '有意见', '分歧'], ['经常', '有', '意见', '分歧'], ['经常', '有', '意', '见分歧'], ['经常', '有意见', '分', '歧'], ['经', '常', '有意见', '分歧'], ['经常', '有', '意见', '分', '歧'], ['经常', '有', '意', '见', '分歧'], ['经', '常', '有', '意见', '分歧'], ['经', '常', '有', '意', '见分歧'], ['经', '常', '有意见', '分', '歧'], ['经常', '有', '意', '见', '分', '歧'], ['经', '常', '有', '意见', '分', '歧'], ['经', '常', '有', '意', '见', '分歧'], ['经', '常', '有', '意', '见', '分', '歧']]\n",
      "14\n"
     ]
    }
   ],
   "source": [
    "#词典；每个词后方存储的是其词频，词频仅为示例，不会用到，也可自行修改\n",
    "Dict = {\"经常\":0.1,\n",
    "        \"经\":0.05,\n",
    "        \"有\":0.1,\n",
    "        \"常\":0.001,\n",
    "        \"有意见\":0.1,\n",
    "        \"歧\":0.001,\n",
    "        \"意见\":0.2,\n",
    "        \"分歧\":0.2,\n",
    "        \"见\":0.05,\n",
    "        \"意\":0.05,\n",
    "        \"见分歧\":0.05,\n",
    "        \"分\":0.1}\n",
    "\n",
    "#待切分文本\n",
    "sentence = \"经常有意见分歧\"\n",
    "\n",
    "#实现全切分函数，输出根据字典能够切分出的所有的切分方式\n",
    "def all_cut(sentence, Dict):\n",
    "    Dict_sorted = sorted(Dict.items(), key=lambda x: x[1], reverse=True)\n",
    "    targets = [[]]\n",
    "    result = []\n",
    "    # 根据targets列表是否为空，判断是否继续循环\n",
    "    # 首次循环为[]\n",
    "    while targets:\n",
    "        new_targets = []\n",
    "        for row in targets:\n",
    "            row_len = sum(len(element) for element in row)\n",
    "            if row_len < len(sentence):\n",
    "                for word, _ in Dict_sorted:\n",
    "                    if row_len + len(word) <= len(sentence) and word == sentence[row_len:(row_len + len(word))]:\n",
    "                        new_row = row + [word]\n",
    "                        new_targets.append(new_row)\n",
    "            elif row_len == len(sentence):\n",
    "                result.append(row)\n",
    "        targets = new_targets\n",
    "    return result\n",
    "\n",
    "if __name__ == '__main__':\n",
    "    result = all_cut(sentence, Dict)\n",
    "    print(result)\n",
    "    print(len(result))"
   ]
  }
 ],
 "metadata": {
  "kernelspec": {
   "display_name": "Python 3",
   "language": "python",
   "name": "python3"
  },
  "language_info": {
   "codemirror_mode": {
    "name": "ipython",
    "version": 2
   },
   "file_extension": ".py",
   "mimetype": "text/x-python",
   "name": "python",
   "nbconvert_exporter": "python",
   "pygments_lexer": "ipython2",
   "version": "2.7.6"
  }
 },
 "nbformat": 4,
 "nbformat_minor": 5
}
