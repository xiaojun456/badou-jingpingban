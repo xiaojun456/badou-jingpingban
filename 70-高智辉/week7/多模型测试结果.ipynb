{
 "cells": [
  {
   "cell_type": "markdown",
   "source": [
    "# 多模型测试结果\n",
    "\n",
    "\n",
    "```python\n",
    "# main\n",
    "if __name__ == \"__main__\":\n",
    "    # main(Config)\n",
    "\n",
    "    # for model in [\"cnn\"]:\n",
    "    #     Config[\"model_type\"] = model\n",
    "    #     print(\"最后一轮准确率：\", main(Config), \"当前配置：\", Config[\"model_type\"])\n",
    "\n",
    "    # 对比所有模型\n",
    "    # 中间日志可以关掉，避免输出过多信息\n",
    "    # 超参数的网格搜索\n",
    "    start_time = time.time()\n",
    "    results = {}\n",
    "    for model in [\"gated_cnn\", \"fast_text\", \"lstm\", \"gru\", \"rnn\", \"cnn\", \"rcnn\", \"bert\", \"bert_lstm\", \"bert_cnn\",\n",
    "                  \"bert_mid_layer\"]:\n",
    "        Config[\"model_type\"] = model\n",
    "        for lr in [1e-3, 1e-4]:\n",
    "            Config[\"learning_rate\"] = lr\n",
    "            for hidden_size in [128]:\n",
    "                Config[\"hidden_size\"] = hidden_size\n",
    "                for batch_size in [64, 128]:\n",
    "                    Config[\"batch_size\"] = batch_size\n",
    "                    for pooling_style in [\"avg\"]:\n",
    "                        Config[\"pooling_style\"] = pooling_style\n",
    "                        acc = main(Config)\n",
    "                        config = (\"[model_type: %s], [learning_rate: %s], [hidden_size: %s], [batch_size: %s], \"\n",
    "                                  \"[pooling_style: %s]\") % (Config[\"model_type\"], Config[\"learning_rate\"],\n",
    "                                                            Config[\"hidden_size\"], Config[\"batch_size\"],\n",
    "                                                            Config[\"pooling_style\"])\n",
    "                        if results.get(model) is not None:\n",
    "                            results[model].append({\"acc\": acc, \"config\": config})\n",
    "                        else:\n",
    "                            results[model] = [{\"acc\": acc, \"config\": config}]\n",
    "    sorted_results = {}\n",
    "    for model, configs in results.items():\n",
    "        sorted_configs = sorted(configs, key=lambda x: x[\"acc\"], reverse=True)\n",
    "        sorted_results[model] = sorted_configs\n",
    "\n",
    "    for model, configs in sorted_results.items():\n",
    "        print(\"model: {}, configs: {}\".format(model, configs))\n",
    "\n",
    "    end_time = time.time()\n",
    "    print(\"程序运行时间: %s\" % (end_time - start_time))\n",
    "\n",
    "```"
   ],
   "metadata": {
    "collapsed": false
   },
   "id": "940e91f29f96876d"
  }
 ],
 "metadata": {
  "kernelspec": {
   "display_name": "Python 3",
   "language": "python",
   "name": "python3"
  },
  "language_info": {
   "codemirror_mode": {
    "name": "ipython",
    "version": 2
   },
   "file_extension": ".py",
   "mimetype": "text/x-python",
   "name": "python",
   "nbconvert_exporter": "python",
   "pygments_lexer": "ipython2",
   "version": "2.7.6"
  }
 },
 "nbformat": 4,
 "nbformat_minor": 5
}
